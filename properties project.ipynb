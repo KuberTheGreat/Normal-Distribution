{
 "cells": [
  {
   "cell_type": "code",
   "execution_count": 39,
   "id": "77176497",
   "metadata": {
    "scrolled": true
   },
   "outputs": [
    {
     "name": "stdout",
     "output_type": "stream",
     "text": [
      "Mean:  68.054\n",
      "Median:  69.0\n",
      "Mode:  74\n",
      "\n",
      "68.8% is the percentage of standard deviation 1\n",
      "95.8% is the percentage of standard deviation 2\n",
      "99.6% is the percentage of standard deviation 3\n"
     ]
    }
   ],
   "source": [
    "import pandas as pd\n",
    "import csv\n",
    "import statistics as stat\n",
    "\n",
    "fileData = pd.read_csv('StudentsPerformance.csv')\n",
    "\n",
    "score = fileData['writing score'].to_list()\n",
    "\n",
    "mean = stat.mean(score)\n",
    "median = stat.median(score)\n",
    "mode = stat.mode(score)\n",
    "\n",
    "print('Mean: ', mean)\n",
    "print('Median: ', median)\n",
    "print('Mode: ', mode)\n",
    "\n",
    "standard_deviation = stat.stdev(score)\n",
    "\n",
    "start1, end1 = mean - standard_deviation, mean + standard_deviation\n",
    "start2, end2 = mean - (2 * standard_deviation), mean + (2 * standard_deviation)\n",
    "start3, end3 = mean - (3 * standard_deviation), mean + (3 * standard_deviation)\n",
    "\n",
    "score_list1 = [result for result in score if result > start1 and result < end1]\n",
    "score_list2 = [result for result in score if result > start2 and result < end2]\n",
    "score_list3 = [result for result in score if result > start3 and result < end3]\n",
    "\n",
    "print('\\n{}% is the percentage of standard deviation 1'.format(len(score_list1) / 10))\n",
    "print('{}% is the percentage of standard deviation 2'.format(len(score_list2) / 10))\n",
    "print('{}% is the percentage of standard deviation 3'.format(len(score_list3) / 10))"
   ]
  }
 ],
 "metadata": {
  "kernelspec": {
   "display_name": "Python 3 (ipykernel)",
   "language": "python",
   "name": "python3"
  },
  "language_info": {
   "codemirror_mode": {
    "name": "ipython",
    "version": 3
   },
   "file_extension": ".py",
   "mimetype": "text/x-python",
   "name": "python",
   "nbconvert_exporter": "python",
   "pygments_lexer": "ipython3",
   "version": "3.9.4"
  }
 },
 "nbformat": 4,
 "nbformat_minor": 5
}
